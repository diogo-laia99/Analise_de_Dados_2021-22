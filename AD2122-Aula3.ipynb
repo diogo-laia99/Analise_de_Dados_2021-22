{
 "cells": [
  {
   "cell_type": "code",
   "execution_count": null,
   "metadata": {},
   "outputs": [],
   "source": [
    "# Python ≥3.5 is required\n",
    "import sys\n",
    "assert sys.version_info >= (3, 5)\n",
    "\n",
    "# Scikit-Learn ≥0.20 is required\n",
    "import sklearn\n",
    "assert sklearn.__version__ >= \"0.20\"\n",
    "\n",
    "try:\n",
    "    # %tensorflow_version only exists in Colab.\n",
    "    %tensorflow_version 2.x\n",
    "except Exception:\n",
    "    pass\n",
    "\n",
    "# TensorFlow ≥2.0 is required\n",
    "import tensorflow as tf\n",
    "assert tf.__version__ >= \"2.0\"\n",
    "\n",
    "# Common imports\n",
    "import numpy as np\n",
    "import os\n",
    "\n",
    "# to make this notebook's output stable across runs\n",
    "np.random.seed(42)\n",
    "\n",
    "# To plot pretty figures\n",
    "%matplotlib inline\n",
    "import matplotlib as mpl\n",
    "import matplotlib.pyplot as plt\n",
    "mpl.rc('axes', labelsize=14)\n",
    "mpl.rc('xtick', labelsize=12)\n",
    "mpl.rc('ytick', labelsize=12)\n",
    "\n",
    "\n",
    "# Ignore useless warnings (see SciPy issue #5998)\n",
    "import warnings\n",
    "warnings.filterwarnings(action=\"ignore\", message=\"^internal gelsd\")"
   ]
  },
  {
   "cell_type": "code",
   "execution_count": null,
   "metadata": {},
   "outputs": [],
   "source": [
    "from tensorflow import keras\n",
    "from tensorflow.keras.preprocessing import image_dataset_from_directory"
   ]
  },
  {
   "cell_type": "code",
   "execution_count": null,
   "metadata": {},
   "outputs": [],
   "source": [
    "# Fsazer um download de um dataset contendo imagens de caes e gatos.  \n",
    "# O método get_file() faz o download e extrai a informação do zip: \n",
    "# https://www.tensorflow.org/api_docs/python/tf/keras/utils/get_file\n",
    "# A informação fica na pasta datasets da diretoria corrente (confirmar a divisão por pastas)\n",
    "\n",
    "import os \n",
    "\n",
    "_URL = 'https://storage.googleapis.com/mledu-datasets/cats_and_dogs_filtered.zip'\n",
    "\n",
    "path_to_zip = tf.keras.utils.get_file('cats_and_dogs.zip', origin=_URL, extract=True, cache_dir=os.curdir)\n",
    "PATH = os.path.join(os.path.dirname(path_to_zip), 'cats_and_dogs_filtered')"
   ]
  },
  {
   "cell_type": "code",
   "execution_count": null,
   "metadata": {},
   "outputs": [],
   "source": [
    "# Contar o total de imagens\n",
    "import pathlib \n",
    "\n",
    "data_dir = pathlib.Path(PATH)\n",
    "\n",
    "image_count = len(list(data_dir.glob('*/*/*.jpg')))\n",
    "print(image_count)"
   ]
  },
  {
   "cell_type": "code",
   "execution_count": null,
   "metadata": {},
   "outputs": [],
   "source": [
    "# Criacao dos Datasets de treino e de validação\n",
    "# O método image_dataset_from_directory cria um objeto Dataset a partir de imagens armazenadas em diretorias\n",
    "# https://www.tensorflow.org/api_docs/python/tf/keras/preprocessing/image_dataset_from_directory\n",
    "# Permite fazer o shuffle das imagens, ajustar tamanho, definir batch size. \n",
    "# O Dataset fica praticamente pronto a ser processado pela rede\n",
    "\n",
    "IMG_SIZE = (160, 160)\n",
    "\n",
    "train_dir = os.path.join(PATH, 'train')\n",
    "validation_dir = os.path.join(PATH, 'validation')\n",
    "\n",
    "train_ds = image_dataset_from_directory(train_dir, shuffle=True, image_size=IMG_SIZE)\n",
    "\n",
    "\n",
    "val_ds = image_dataset_from_directory(validation_dir, shuffle=True, image_size=IMG_SIZE)"
   ]
  },
  {
   "cell_type": "code",
   "execution_count": null,
   "metadata": {},
   "outputs": [],
   "source": [
    "# Confirmar o formato dos batches do dataset\n",
    "\n",
    "for image_batch, labels_batch in train_ds:\n",
    "    print(image_batch.shape)\n",
    "    print(labels_batch.shape)\n",
    "    break"
   ]
  },
  {
   "cell_type": "code",
   "execution_count": null,
   "metadata": {},
   "outputs": [],
   "source": [
    "class_names = train_ds.class_names\n",
    "print(class_names)"
   ]
  },
  {
   "cell_type": "code",
   "execution_count": null,
   "metadata": {},
   "outputs": [],
   "source": [
    "# Visualizar alguns exemplos\n",
    "\n",
    "\n",
    "plt.figure(figsize=(10, 10))\n",
    "for images, labels in train_ds.take(1):\n",
    "    for i in range(9):\n",
    "        ax = plt.subplot(3, 3, i + 1)\n",
    "        plt.imshow(images[i].numpy().astype(\"uint8\")) #pode ser transformado num array numpy \n",
    "        plt.title(class_names[labels[i]])\n",
    "        plt.axis(\"off\")"
   ]
  },
  {
   "cell_type": "code",
   "execution_count": null,
   "metadata": {},
   "outputs": [],
   "source": [
    "# Criar um conjunto de teste retirando 33% dos exemplos da validação\n",
    "\n",
    "val_batches = val_ds.cardinality().numpy() \n",
    "test_ds = val_ds.take(val_batches // 3) \n",
    "val_ds = val_ds.skip(val_batches // 3)"
   ]
  },
  {
   "cell_type": "code",
   "execution_count": null,
   "metadata": {},
   "outputs": [],
   "source": [
    "# Confirmar o número de batches em cada dataset\n",
    "\n",
    "print('Train: ', train_ds.cardinality().numpy()) \n",
    "print('Validation: ', val_ds.cardinality().numpy()) \n",
    "print('Teste: ', test_ds.cardinality().numpy())"
   ]
  },
  {
   "cell_type": "code",
   "execution_count": null,
   "metadata": {},
   "outputs": [],
   "source": [
    "# Ajustar algumas configurações para melhorar o desempenho\n",
    "# Verificar quais são as operações aplicadadas aos datasets\n",
    "\n",
    "train_ds = train_ds.cache().prefetch(1)\n",
    "val_ds = val_ds.cache().prefetch(1)"
   ]
  },
  {
   "cell_type": "code",
   "execution_count": null,
   "metadata": {},
   "outputs": [],
   "source": [
    "# Lista e descrição dos métodos da classe Dataset\n",
    "\n",
    "for m in dir(tf.data.Dataset):\n",
    "    if not (m.startswith(\"_\") or m.endswith(\"_\")):\n",
    "        func = getattr(tf.data.Dataset, m)\n",
    "        if hasattr(func, \"__doc__\"):\n",
    "            print(\"● {:21s}{}\".format(m + \"()\", func.__doc__.split(\"\\n\")[0]))"
   ]
  },
  {
   "cell_type": "code",
   "execution_count": null,
   "metadata": {},
   "outputs": [],
   "source": [
    "# Normalizar inputs\n",
    "# Poderia ser adicionada uma camada ao início da Rede, mas aqui vai ser usado o método map\n",
    "\n",
    "normalization_layer = keras.layers.experimental.preprocessing.Rescaling(1./255)\n",
    "\n",
    "train_ds = train_ds.map(lambda x, y: (normalization_layer(x), y))\n",
    "val_ds = val_ds.map(lambda x, y: (normalization_layer(x), y))\n",
    "test_ds = test_ds.map(lambda x, y: (normalization_layer(x), y))"
   ]
  },
  {
   "cell_type": "code",
   "execution_count": null,
   "metadata": {},
   "outputs": [],
   "source": [
    "# Confirmar que a transformação foi feita e que todos os valores variam entre 0 e 1\n",
    "\n",
    "image_batch, labels_batch = next(iter(train_ds))\n",
    "first_image = image_batch[0]\n",
    "print(np.min(first_image), np.max(first_image))"
   ]
  },
  {
   "cell_type": "code",
   "execution_count": null,
   "metadata": {},
   "outputs": [],
   "source": [
    "# Que informação está guardada nos tensores image_batch e first_image\n",
    "# Confirme verificando as suas dimensões\n",
    "\n"
   ]
  },
  {
   "cell_type": "code",
   "execution_count": null,
   "metadata": {},
   "outputs": [],
   "source": [
    "keras.backend.clear_session()\n",
    "tf.random.set_seed(42)\n",
    "np.random.seed(42)"
   ]
  },
  {
   "cell_type": "code",
   "execution_count": null,
   "metadata": {},
   "outputs": [],
   "source": [
    "# Criar uma Rede Neuronal com a seguinte arquitetura\n",
    "# 4 camadas escondidas com 50 neuronios cada: Inicialização de pesos He e função ReLU\n",
    "# Última camada com Sigmoid (2 classes)\n",
    "\n",
    "model = keras.models.Sequential([\n",
    "    keras.layers.Flatten(input_shape=[160, 160, 3]),\n",
    "    keras.layers.Dense(50, kernel_initializer=\"he_normal\", activation=\"relu\"),   \n",
    "    keras.layers.Dense(50, kernel_initializer=\"he_normal\", activation=\"relu\"),   \n",
    "    keras.layers.Dense(50, kernel_initializer=\"he_normal\", activation=\"relu\"), \n",
    "    keras.layers.Dense(50, kernel_initializer=\"he_normal\", activation=\"relu\"), \n",
    "    keras.layers.Dense(1, activation=\"sigmoid\")\n",
    "])"
   ]
  },
  {
   "cell_type": "code",
   "execution_count": null,
   "metadata": {},
   "outputs": [],
   "source": [
    "# Analise as características da Rede\n",
    "\n"
   ]
  },
  {
   "cell_type": "code",
   "execution_count": null,
   "metadata": {},
   "outputs": [],
   "source": [
    "# Compilar o modelo \n",
    "# A função de loss está ajustada ao formato da saída\n",
    "\n",
    "model.compile(loss=\"binary_crossentropy\",\n",
    "              optimizer=keras.optimizers.SGD(lr=0.01),\n",
    "              metrics=[\"accuracy\"])"
   ]
  },
  {
   "cell_type": "code",
   "execution_count": null,
   "metadata": {},
   "outputs": [],
   "source": [
    "# Treinar o modelo durante 30 épocas\n",
    "history = model.fit(train_ds, epochs=30, validation_data=val_ds)"
   ]
  },
  {
   "cell_type": "code",
   "execution_count": null,
   "metadata": {},
   "outputs": [],
   "source": [
    "# Criar gráfico para visualização da evolução da accuracy\n",
    "import pandas as pd\n",
    "\n",
    "plt.plot(history.history['accuracy'])\n",
    "plt.plot(history.history['val_accuracy'])\n",
    "plt.title('Accuracy Evolution')\n",
    "plt.legend(['train', 'val'], loc='upper left')\n",
    "plt.ylabel('accuracy')\n",
    "plt.xlabel('epoch')\n",
    "plt.grid(True)\n",
    "plt.ylim(0.5, 1.0)\n",
    "plt.show()"
   ]
  },
  {
   "cell_type": "code",
   "execution_count": null,
   "metadata": {},
   "outputs": [],
   "source": [
    "# Analise os resultados, avalie o desempenho no conjunto de teste\n",
    "model.evaluate(test_ds)"
   ]
  },
  {
   "cell_type": "code",
   "execution_count": null,
   "metadata": {},
   "outputs": [],
   "source": [
    "# Teste o classificador com duas imagens à sua escolha\n",
    "# Terá que ter 2 imagens na diretoria corrente e atribuir o seu nome às variáveis nome1 e nome2\n",
    "# Ver os métodos keras para processamento de imagem: https://keras.io/api/preprocessing/image/\n",
    "\n",
    "nome1 = '6.jpg'\n",
    "nome2 = '5.jpg'\n",
    "\n",
    "im1 = tf.keras.preprocessing.image.load_img(nome1, target_size=IMG_SIZE)\n",
    "im2 = tf.keras.preprocessing.image.load_img(nome2, target_size=IMG_SIZE)"
   ]
  },
  {
   "cell_type": "code",
   "execution_count": null,
   "metadata": {},
   "outputs": [],
   "source": [
    "# Transformar num array numpy, normalizar inputs e criar batch\n",
    "# Não esquecer que o modelo espera um tensor de dimensão 4\n",
    "\n",
    "input1 = keras.preprocessing.image.img_to_array(im1)\n",
    "input2 = keras.preprocessing.image.img_to_array(im2)\n",
    "input1 = input1.astype('float32') / 255\n",
    "input2 = input2.astype('float32') / 255\n",
    "\n",
    "images = np.array([input1, input2])\n",
    "images.shape"
   ]
  },
  {
   "cell_type": "code",
   "execution_count": null,
   "metadata": {},
   "outputs": [],
   "source": [
    "# Aplicar o modelo e obter as previsões\n",
    "\n",
    "predictions = model.predict(images)\n",
    "predictions = predictions.squeeze()\n",
    "predictions = np.where(predictions > 0.5, 1,0)\n",
    "print(predictions)"
   ]
  },
  {
   "cell_type": "code",
   "execution_count": null,
   "metadata": {},
   "outputs": [],
   "source": [
    "# Mostrar o resultado\n",
    "\n",
    "plt.figure(figsize=(10,10))\n",
    "for i in range(2):\n",
    "    ax = plt.subplot(2,2,i + 1)\n",
    "    plt.imshow(images[i]) \n",
    "    plt.title(class_names[predictions[i]])\n",
    "    plt.axis(\"off\")"
   ]
  },
  {
   "cell_type": "code",
   "execution_count": null,
   "metadata": {},
   "outputs": [],
   "source": [
    "# Tente melhorar o comportamento da rede, tendo em consideração diversos componentes\n",
    "# 1. Arquitetura\n",
    "# 2. Funções de Ativação, Inicialização de Pesos : https://www.tensorflow.org/api_docs/python/tf/keras/activations\n",
    "# 3. Otimização : https://www.tensorflow.org/api_docs/python/tf/keras/optimizers\n",
    "# 4. BatchNorm : https://www.tensorflow.org/api_docs/python/tf/keras/layers/BatchNormalization\n",
    "# 5. Dropout : https://www.tensorflow.org/api_docs/python/tf/keras/layers/Dropout\n",
    "\n",
    "# O objetivo é atingir 70% de Accuracy no conjunto de teste\n",
    "\n",
    "# Também poderão ser usados callbacks seguinte (https://keras.io/api/callbacks/) para:\n",
    "# Early Stopping se o treino estagnar e modelo entrar em overfitting\n",
    "# Adcionar este callback ao parâmetro callbacks no método fit()\n",
    "\n",
    "early_stopping_cb = keras.callbacks.EarlyStopping(\n",
    "    patience=5, restore_best_weights=True)\n",
    "\n",
    "\n"
   ]
  },
  {
   "cell_type": "code",
   "execution_count": null,
   "metadata": {},
   "outputs": [],
   "source": [
    "# Utilização da Ferramenta TensorBoard\n",
    "\n",
    "import os \n",
    "\n",
    "# Diretoria Raiz\n",
    "root_logdir = os.path.join(os.curdir, \"my_logs\")\n",
    "\n",
    "# Sub-diretoria onde ficarão os dados da execução: tem um nome criado a partir da hora de inicio\n",
    "def get_run_logdir():\n",
    "    import time\n",
    "    run_id = time.strftime(\"run_%Y_%m_%d-%H_%M_%S\")\n",
    "    return os.path.join(root_logdir, run_id)\n",
    "\n",
    "\n"
   ]
  },
  {
   "cell_type": "code",
   "execution_count": null,
   "metadata": {},
   "outputs": [],
   "source": [
    "keras.backend.clear_session()\n",
    "tf.random.set_seed(42)\n",
    "np.random.seed(42)\n",
    "\n",
    "modelT = keras.models.Sequential([\n",
    "    keras.layers.Flatten(input_shape=[160, 160, 3]),\n",
    "    keras.layers.Dense(50, kernel_initializer=\"he_normal\", activation=\"relu\"), \n",
    "    keras.layers.Dense(50, kernel_initializer=\"he_normal\", activation=\"relu\"), \n",
    "    keras.layers.Dense(1, activation=\"sigmoid\")\n",
    "])\n",
    "\n",
    "modelT.compile(loss=\"binary_crossentropy\",\n",
    "              optimizer=keras.optimizers.SGD(lr=0.01),\n",
    "              metrics=[\"accuracy\"])\n",
    "\n",
    "# Criação do callback para executar a recolha de dados para o Tensorboard durante o treino\n",
    "# Consultar os parâmetros aqui: https://keras.io/api/callbacks/tensorboard/\n",
    "run_logdir = get_run_logdir()\n",
    "\n",
    "tensorboard_cb = keras.callbacks.TensorBoard(run_logdir, histogram_freq=1)\n",
    "\n",
    "\n",
    "# O método fit recebe informação sobre o callback do tensorboard\n",
    "history = modelT.fit(train_ds, epochs=5, validation_data=val_ds, callbacks=[tensorboard_cb])"
   ]
  },
  {
   "cell_type": "code",
   "execution_count": null,
   "metadata": {},
   "outputs": [],
   "source": [
    "# Lançar extensão TensorBoard\n",
    "%load_ext tensorboard"
   ]
  },
  {
   "cell_type": "code",
   "execution_count": null,
   "metadata": {
    "scrolled": true
   },
   "outputs": [],
   "source": [
    "# Iniciar o servidor TensorBoard \n",
    "# --port=6006\n",
    "# --host=127.0.0.1\n",
    "%tensorboard --logdir=./my_logs --host=127.0.0.1"
   ]
  },
  {
   "cell_type": "code",
   "execution_count": null,
   "metadata": {},
   "outputs": [],
   "source": []
  }
 ],
 "metadata": {
  "kernelspec": {
   "display_name": "Python 3",
   "language": "python",
   "name": "python3"
  },
  "language_info": {
   "codemirror_mode": {
    "name": "ipython",
    "version": 3
   },
   "file_extension": ".py",
   "mimetype": "text/x-python",
   "name": "python",
   "nbconvert_exporter": "python",
   "pygments_lexer": "ipython3",
   "version": "3.6.11"
  }
 },
 "nbformat": 4,
 "nbformat_minor": 4
}
