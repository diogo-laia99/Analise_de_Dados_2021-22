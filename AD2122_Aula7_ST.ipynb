{
 "cells": [
  {
   "cell_type": "code",
   "execution_count": null,
   "metadata": {
    "executionInfo": {
     "elapsed": 4266,
     "status": "ok",
     "timestamp": 1649693986873,
     "user": {
      "displayName": "Francisco Pereira.",
      "userId": "18056300573999971806"
     },
     "user_tz": -60
    },
    "id": "h3TT6aJtctES"
   },
   "outputs": [],
   "source": [
    "# Python ≥3.5 is required\n",
    "import sys\n",
    "assert sys.version_info >= (3, 5)\n",
    "\n",
    "# Scikit-Learn ≥0.20 is required\n",
    "import sklearn\n",
    "assert sklearn.__version__ >= \"0.20\"\n",
    "\n",
    "try:\n",
    "    # %tensorflow_version only exists in Colab.\n",
    "    %tensorflow_version 2.x\n",
    "except Exception:\n",
    "    pass\n",
    "\n",
    "# TensorFlow ≥2.0 is required\n",
    "import tensorflow as tf\n",
    "assert tf.__version__ >= \"2.0\"\n",
    "\n",
    "# Common imports\n",
    "import numpy as np\n",
    "import os\n",
    "\n",
    "# to make this notebook's output stable across runs\n",
    "np.random.seed(42)\n",
    "\n",
    "# To plot pretty figures\n",
    "%matplotlib inline\n",
    "import matplotlib as mpl\n",
    "import matplotlib.pyplot as plt\n",
    "mpl.rc('axes', labelsize=14)\n",
    "mpl.rc('xtick', labelsize=12)\n",
    "mpl.rc('ytick', labelsize=12)\n",
    "\n",
    "\n",
    "# Ignore useless warnings (see SciPy issue #5998)\n",
    "import warnings\n",
    "warnings.filterwarnings(action=\"ignore\", message=\"^internal gelsd\")"
   ]
  },
  {
   "cell_type": "code",
   "execution_count": null,
   "metadata": {
    "executionInfo": {
     "elapsed": 213,
     "status": "ok",
     "timestamp": 1649693988718,
     "user": {
      "displayName": "Francisco Pereira.",
      "userId": "18056300573999971806"
     },
     "user_tz": -60
    },
    "id": "NMnYgfUXc__V"
   },
   "outputs": [],
   "source": [
    "from tensorflow import keras\n",
    "from tensorflow.keras import layers"
   ]
  },
  {
   "cell_type": "code",
   "execution_count": null,
   "metadata": {
    "executionInfo": {
     "elapsed": 237,
     "status": "ok",
     "timestamp": 1649694009909,
     "user": {
      "displayName": "Francisco Pereira.",
      "userId": "18056300573999971806"
     },
     "user_tz": -60
    },
    "id": "lQwj7QOSdD7I"
   },
   "outputs": [],
   "source": [
    "# Esta função cria séries temporais univariadas\n",
    "# Devolve batch_size séries, cada uma com tamanho n_steps \n",
    "# Como é uma série univariada, apenas existe 1 valor em cada timestep: (Batch, Timestep, 1) \n",
    "\n",
    "def generate_time_series(batch_size, n_steps):\n",
    "    freq1, freq2, offsets1, offsets2 = np.random.rand(4, batch_size, 1)\n",
    "    time = np.linspace(0, 1, n_steps)\n",
    "    series = 0.5 * np.sin((time - offsets1) * (freq1 * 10 + 10))  #   wave 1\n",
    "    series += 0.2 * np.sin((time - offsets2) * (freq2 * 20 + 20)) # + wave 2\n",
    "    series += 0.1 * (np.random.rand(batch_size, n_steps) - 0.5)   # + noise\n",
    "    return series[..., np.newaxis].astype(np.float32)"
   ]
  },
  {
   "cell_type": "code",
   "execution_count": null,
   "metadata": {
    "executionInfo": {
     "elapsed": 257,
     "status": "ok",
     "timestamp": 1649694011825,
     "user": {
      "displayName": "Francisco Pereira.",
      "userId": "18056300573999971806"
     },
     "user_tz": -60
    },
    "id": "XbiFqM1udJdJ"
   },
   "outputs": [],
   "source": [
    "# Criar os conjuntos de treino, validação e teste\n",
    "# Cada série temporal tem 50 passos\n",
    "\n",
    "np.random.seed(42)\n",
    "\n",
    "n_steps = 50\n",
    "series = generate_time_series(10000, n_steps + 1)\n",
    "X_train, y_train = series[:7000, :n_steps], series[:7000, -1]\n",
    "X_valid, y_valid = series[7000:9000, :n_steps], series[7000:9000, -1]\n",
    "X_test, y_test = series[9000:, :n_steps], series[9000:, -1]"
   ]
  },
  {
   "cell_type": "code",
   "execution_count": null,
   "metadata": {
    "executionInfo": {
     "elapsed": 3,
     "status": "ok",
     "timestamp": 1649693720346,
     "user": {
      "displayName": "Francisco Pereira.",
      "userId": "18056300573999971806"
     },
     "user_tz": -60
    },
    "id": "fiXVDN4-dOI5"
   },
   "outputs": [],
   "source": [
    "#Qual o formato dos tensores criados para cada um dos conjuntos?\n",
    "# Treino, Validação e Teste\n"
   ]
  },
  {
   "cell_type": "code",
   "execution_count": null,
   "metadata": {
    "executionInfo": {
     "elapsed": 518,
     "status": "ok",
     "timestamp": 1649694015126,
     "user": {
      "displayName": "Francisco Pereira.",
      "userId": "18056300573999971806"
     },
     "user_tz": -60
    },
    "id": "SjPPNi8BdREW"
   },
   "outputs": [],
   "source": [
    "# Criar uma função para visualizar alguns exemplos de séries temporais\n",
    "\n",
    "def plot_series(series, y=None, y_pred=None, x_label=\"$t$\", y_label=\"$x(t)$\"):\n",
    "    plt.plot(series, \".-\")\n",
    "    if y is not None:\n",
    "        plt.plot(n_steps, y, \"bx\", markersize=10)\n",
    "    if y_pred is not None:\n",
    "        plt.plot(n_steps, y_pred, \"ro\")\n",
    "    plt.grid(True)\n",
    "    if x_label:\n",
    "        plt.xlabel(x_label, fontsize=16)\n",
    "    if y_label:\n",
    "        plt.ylabel(y_label, fontsize=16, rotation=0)\n",
    "    plt.hlines(0, 0, 100, linewidth=1)\n",
    "    plt.axis([0, n_steps + 1, -1, 1])"
   ]
  },
  {
   "cell_type": "code",
   "execution_count": null,
   "metadata": {
    "colab": {
     "base_uri": "https://localhost:8080/",
     "height": 293
    },
    "executionInfo": {
     "elapsed": 1522,
     "status": "ok",
     "timestamp": 1649693723896,
     "user": {
      "displayName": "Francisco Pereira.",
      "userId": "18056300573999971806"
     },
     "user_tz": -60
    },
    "id": "FUsKCL8zdUod",
    "outputId": "8e3495f3-b1ab-4374-aa42-46cbe018151d"
   },
   "outputs": [],
   "source": [
    "# Mostrar exemplos de 3 séries temporais\n",
    "# O X marca o valor a prever em cada caso\n",
    "\n",
    "fig, axes = plt.subplots(nrows=1, ncols=3, sharey=True, figsize=(12, 4))\n",
    "for col in range(3):\n",
    "    plt.sca(axes[col])\n",
    "    plot_series(X_valid[col, :, 0], y_valid[col, 0],\n",
    "                y_label=(\"$x(t)$\" if col==0 else None))\n",
    "plt.show()"
   ]
  },
  {
   "cell_type": "code",
   "execution_count": null,
   "metadata": {
    "colab": {
     "base_uri": "https://localhost:8080/"
    },
    "executionInfo": {
     "elapsed": 3,
     "status": "ok",
     "timestamp": 1649693724825,
     "user": {
      "displayName": "Francisco Pereira.",
      "userId": "18056300573999971806"
     },
     "user_tz": -60
    },
    "id": "WGQGX7OfdoBE",
    "outputId": "1b716a59-165d-46a9-de14-45c44bb4f093"
   },
   "outputs": [],
   "source": [
    "# Baseline 1: O preditor devolve o último valor da série temporal\n",
    "# Nem sequer é preciso nenhum modelo para este cálculo. Basta devolver o último valor da sequência\n",
    "# Vamos utilizar apenas os dados reservados para teste\n",
    "\n",
    "y_pred = X_test[:, -1]\n",
    "\n",
    "# Determinar o menor e maior erro em cada uma das series de teste\n",
    "difference = np.absolute(y_pred - y_test)\n",
    "print('Min: ', np.min(difference))\n",
    "print('Max: ', np.max(difference))"
   ]
  },
  {
   "cell_type": "code",
   "execution_count": null,
   "metadata": {
    "colab": {
     "base_uri": "https://localhost:8080/"
    },
    "executionInfo": {
     "elapsed": 4136,
     "status": "ok",
     "timestamp": 1649693730976,
     "user": {
      "displayName": "Francisco Pereira.",
      "userId": "18056300573999971806"
     },
     "user_tz": -60
    },
    "id": "tCROJywNdtwn",
    "outputId": "eb2e8d51-66a2-46c6-dfcc-565e89102d4c"
   },
   "outputs": [],
   "source": [
    "# Cálculo do erro obtido por esta abordagem no conjunto de teste (MSE) \n",
    "\n",
    "np.mean(keras.losses.mean_squared_error(y_test, y_pred))"
   ]
  },
  {
   "cell_type": "code",
   "execution_count": null,
   "metadata": {
    "colab": {
     "base_uri": "https://localhost:8080/",
     "height": 293
    },
    "executionInfo": {
     "elapsed": 425,
     "status": "ok",
     "timestamp": 1649693733759,
     "user": {
      "displayName": "Francisco Pereira.",
      "userId": "18056300573999971806"
     },
     "user_tz": -60
    },
    "id": "QUTSgonQd4-H",
    "outputId": "f49c3b9c-c2ab-4a84-bc55-90f145a741d3"
   },
   "outputs": [],
   "source": [
    "# Visualização do erro na primeira série de teste\n",
    "# O circulo vermelho assinala o valor previsto e o X azul o valor correto\n",
    "\n",
    "# Experimentar visualizar para outras séries de teste\n",
    "serie = 0\n",
    "\n",
    "plot_series(X_test[serie, :, 0], y_test[serie, 0], y_pred[serie, 0])\n",
    "plt.show()"
   ]
  },
  {
   "cell_type": "code",
   "execution_count": null,
   "metadata": {
    "executionInfo": {
     "elapsed": 598,
     "status": "ok",
     "timestamp": 1649693736892,
     "user": {
      "displayName": "Francisco Pereira.",
      "userId": "18056300573999971806"
     },
     "user_tz": -60
    },
    "id": "kT2GLgqmeQG7"
   },
   "outputs": [],
   "source": [
    "# Baseline 2: A previsão é uma combinação linear dos inputs\n",
    "# Criar uma rede neuronal simples com uma única camada \n",
    "# Os pesos correspondem aos parâmetros da combinação linear\n",
    "\n",
    "keras.backend.clear_session()\n",
    "np.random.seed(42)\n",
    "tf.random.set_seed(42)\n",
    "\n",
    "# A entrada é linearizada com uma camada Flatten\n",
    "# A saída recebe as contribuições pesadas \n",
    "\n",
    "model = keras.models.Sequential([\n",
    "    # Completar\n",
    "])"
   ]
  },
  {
   "cell_type": "code",
   "execution_count": null,
   "metadata": {
    "colab": {
     "base_uri": "https://localhost:8080/"
    },
    "executionInfo": {
     "elapsed": 262,
     "status": "ok",
     "timestamp": 1649693740295,
     "user": {
      "displayName": "Francisco Pereira.",
      "userId": "18056300573999971806"
     },
     "user_tz": -60
    },
    "id": "0cEMO0_ZeVJN",
    "outputId": "542f1927-0a4e-4b05-d1e1-c4e97bab24e8"
   },
   "outputs": [],
   "source": [
    "model.summary()"
   ]
  },
  {
   "cell_type": "code",
   "execution_count": null,
   "metadata": {
    "colab": {
     "base_uri": "https://localhost:8080/",
     "height": 289
    },
    "executionInfo": {
     "elapsed": 392,
     "status": "ok",
     "timestamp": 1649693743185,
     "user": {
      "displayName": "Francisco Pereira.",
      "userId": "18056300573999971806"
     },
     "user_tz": -60
    },
    "id": "4gafODwjeYfk",
    "outputId": "fb260359-b418-4934-b646-58985cd4321d"
   },
   "outputs": [],
   "source": [
    "weights, bias = model.layers[1].get_weights()\n",
    "weights = np.absolute(weights)\n",
    "\n",
    "plt.plot(weights)"
   ]
  },
  {
   "cell_type": "code",
   "execution_count": null,
   "metadata": {
    "colab": {
     "base_uri": "https://localhost:8080/"
    },
    "executionInfo": {
     "elapsed": 18084,
     "status": "ok",
     "timestamp": 1649693766571,
     "user": {
      "displayName": "Francisco Pereira.",
      "userId": "18056300573999971806"
     },
     "user_tz": -60
    },
    "id": "q0WIJa9Gebel",
    "outputId": "49137eb9-22d6-4dc6-fd5f-eb8658d08efb"
   },
   "outputs": [],
   "source": [
    "model.compile(loss=\"mse\", optimizer=\"adam\")\n",
    "history = model.fit(X_train, y_train, epochs=20,\n",
    "                    validation_data=(X_valid, y_valid))"
   ]
  },
  {
   "cell_type": "code",
   "execution_count": null,
   "metadata": {
    "colab": {
     "base_uri": "https://localhost:8080/"
    },
    "executionInfo": {
     "elapsed": 269,
     "status": "ok",
     "timestamp": 1649693768608,
     "user": {
      "displayName": "Francisco Pereira.",
      "userId": "18056300573999971806"
     },
     "user_tz": -60
    },
    "id": "V5tBdrLmeh3h",
    "outputId": "d40d6b0f-493f-471d-8414-a459d6dfd58d"
   },
   "outputs": [],
   "source": [
    "# Avaliação no conjunto de teste\n",
    "\n",
    "# Qual das 2 abordagens baseline obteve melhores resultados?\n",
    "\n",
    "model.evaluate(X_test, y_test)"
   ]
  },
  {
   "cell_type": "code",
   "execution_count": null,
   "metadata": {
    "colab": {
     "base_uri": "https://localhost:8080/",
     "height": 286
    },
    "executionInfo": {
     "elapsed": 753,
     "status": "ok",
     "timestamp": 1649693771344,
     "user": {
      "displayName": "Francisco Pereira.",
      "userId": "18056300573999971806"
     },
     "user_tz": -60
    },
    "id": "3Uj8hH9sen-z",
    "outputId": "bf130212-e519-4ed3-f068-5d930c78b1a0"
   },
   "outputs": [],
   "source": [
    "# Visualizar os resultados\n",
    "# Visualização da evolução da loss\n",
    "\n",
    "import pandas as pd \n",
    "history_frame = pd.DataFrame(history.history)\n",
    "history_frame.loc[:, ['loss', 'val_loss']].plot()\n"
   ]
  },
  {
   "cell_type": "code",
   "execution_count": null,
   "metadata": {
    "colab": {
     "base_uri": "https://localhost:8080/",
     "height": 293
    },
    "executionInfo": {
     "elapsed": 524,
     "status": "ok",
     "timestamp": 1649693774375,
     "user": {
      "displayName": "Francisco Pereira.",
      "userId": "18056300573999971806"
     },
     "user_tz": -60
    },
    "id": "QONuC3LRerC8",
    "outputId": "e741d2ac-28c3-4666-c523-4f4e71c43fa2"
   },
   "outputs": [],
   "source": [
    "# Visualização do erro na primeira série de teste\n",
    "# O circulo vermelho assinala o valor previsto e o X azul o valor correto\n",
    "\n",
    "# Experimentar visualizar para outras séries de teste\n",
    "serie = 0\n",
    "y_pred = model.predict(X_valid)\n",
    "plot_series(X_valid[serie, :, 0], y_valid[serie, 0], y_pred[serie, 0])\n",
    "plt.show()"
   ]
  },
  {
   "cell_type": "code",
   "execution_count": null,
   "metadata": {
    "executionInfo": {
     "elapsed": 1564,
     "status": "ok",
     "timestamp": 1649693780130,
     "user": {
      "displayName": "Francisco Pereira.",
      "userId": "18056300573999971806"
     },
     "user_tz": -60
    },
    "id": "GXA110ameuRN"
   },
   "outputs": [],
   "source": [
    "weights, bias = model.layers[1].get_weights()\n",
    "weights = np.absolute(weights)"
   ]
  },
  {
   "cell_type": "code",
   "execution_count": null,
   "metadata": {
    "colab": {
     "base_uri": "https://localhost:8080/",
     "height": 286
    },
    "executionInfo": {
     "elapsed": 7,
     "status": "ok",
     "timestamp": 1649693780503,
     "user": {
      "displayName": "Francisco Pereira.",
      "userId": "18056300573999971806"
     },
     "user_tz": -60
    },
    "id": "dZ3cJ84TexKw",
    "outputId": "4ea56b01-be73-4738-c637-c4d0369c6297"
   },
   "outputs": [],
   "source": [
    "# Que interpretação é que faz da informação apresentada neste gráfico?\n",
    "\n",
    "plt.plot(weights)"
   ]
  },
  {
   "cell_type": "code",
   "execution_count": null,
   "metadata": {
    "executionInfo": {
     "elapsed": 309,
     "status": "ok",
     "timestamp": 1649694023428,
     "user": {
      "displayName": "Francisco Pereira.",
      "userId": "18056300573999971806"
     },
     "user_tz": -60
    },
    "id": "aPQLd8hOFb5W"
   },
   "outputs": [],
   "source": [
    "# Já existem valores baseline baseados em abordagens muito simples\n",
    "# Agora passamos para a implementação de RNN, para verificar qual a melhoria de desempenho\n",
    "\n",
    "# https://www.tensorflow.org/guide/keras/rnn\n",
    "# https://www.tensorflow.org/api_docs/python/tf/keras/layers/SimpleRNN\n",
    "\n",
    "# Abordagem RNN 1: Utilizar células RNN simples\n",
    "\n",
    "keras.backend.clear_session()\n",
    "np.random.seed(42)\n",
    "tf.random.set_seed(42)\n",
    "\n",
    "\n",
    "# Modelo apenas com 1 camada e 1 célula recorrente\n",
    "# Não é necessário indicar o tamanho da sequência de input (número de steps)\n",
    "\n",
    "modelR = keras.models.Sequential([\n",
    "    keras.layers.SimpleRNN(1, input_shape=[None, 1])\n",
    "])"
   ]
  },
  {
   "cell_type": "code",
   "execution_count": null,
   "metadata": {
    "executionInfo": {
     "elapsed": 249,
     "status": "ok",
     "timestamp": 1649693787498,
     "user": {
      "displayName": "Francisco Pereira.",
      "userId": "18056300573999971806"
     },
     "user_tz": -60
    },
    "id": "zUQf1awwFevF"
   },
   "outputs": [],
   "source": [
    "# Quantos parâmetros tem este modelo modelR?\n",
    "# Para que servem?\n"
   ]
  },
  {
   "cell_type": "code",
   "execution_count": null,
   "metadata": {
    "colab": {
     "base_uri": "https://localhost:8080/"
    },
    "executionInfo": {
     "elapsed": 324307,
     "status": "ok",
     "timestamp": 1649694352174,
     "user": {
      "displayName": "Francisco Pereira.",
      "userId": "18056300573999971806"
     },
     "user_tz": -60
    },
    "id": "MQ7iFP2VFhK8",
    "outputId": "febfbe67-1546-49aa-c3ad-8f903b52df16"
   },
   "outputs": [],
   "source": [
    "\n",
    "modelR.compile(loss=\"mse\", optimizer=\"adam\")\n",
    "history = modelR.fit(X_train, y_train, epochs=20,\n",
    "                    validation_data=(X_valid, y_valid))"
   ]
  },
  {
   "cell_type": "code",
   "execution_count": null,
   "metadata": {
    "colab": {
     "base_uri": "https://localhost:8080/"
    },
    "executionInfo": {
     "elapsed": 739,
     "status": "ok",
     "timestamp": 1649694363613,
     "user": {
      "displayName": "Francisco Pereira.",
      "userId": "18056300573999971806"
     },
     "user_tz": -60
    },
    "id": "L56Rt1tQGTlx",
    "outputId": "ada9ce4a-5a32-4174-a5e6-3351ceb743ab"
   },
   "outputs": [],
   "source": [
    "# Avaliar o desempenho no conjunto de teste\n",
    "modelR.evaluate(X_test, y_test)"
   ]
  },
  {
   "cell_type": "code",
   "execution_count": null,
   "metadata": {
    "colab": {
     "base_uri": "https://localhost:8080/",
     "height": 286
    },
    "executionInfo": {
     "elapsed": 1055,
     "status": "ok",
     "timestamp": 1649694368971,
     "user": {
      "displayName": "Francisco Pereira.",
      "userId": "18056300573999971806"
     },
     "user_tz": -60
    },
    "id": "-eDzhpm1GURP",
    "outputId": "f6007cff-95ea-43ec-8793-a35fbbaa9904"
   },
   "outputs": [],
   "source": [
    "# Visualizar os resultados\n",
    "# Visualização da evolução da loss\n",
    "\n",
    "import pandas as pd \n",
    "history_frame = pd.DataFrame(history.history)\n",
    "history_frame.loc[:, ['loss', 'val_loss']].plot()"
   ]
  },
  {
   "cell_type": "code",
   "execution_count": null,
   "metadata": {
    "id": "lOGequSzGY4B"
   },
   "outputs": [],
   "source": [
    "# Analise o desempenho e efetue a comparação com as abordagens baseline\n"
   ]
  },
  {
   "cell_type": "code",
   "execution_count": null,
   "metadata": {
    "executionInfo": {
     "elapsed": 262,
     "status": "ok",
     "timestamp": 1649694373186,
     "user": {
      "displayName": "Francisco Pereira.",
      "userId": "18056300573999971806"
     },
     "user_tz": -60
    },
    "id": "j3IS4-vUGbOS"
   },
   "outputs": [],
   "source": [
    "# Abordagem RNN 2:  Colocar várias camadas para aumentar a complexidade do modelo - Deep RNN \n",
    "# Criar um modelo com 2 camadas, cada uma delas com 20 células RNN (SimpleRNN)\n",
    "# Adicionar uma camada Dense com 1 nó ao final para o output (sem função de ativação)\n",
    "\n",
    "keras.backend.clear_session()\n",
    "np.random.seed(42)\n",
    "tf.random.set_seed(42)\n",
    "\n",
    "# Dois detalhes importantes\n",
    "# 1. Parâmetro return_sequences indica se é devolvida toda a sequência ou apenas o último valor (por omissão tem o valor False)\n",
    "# 2. A camada de saída é um nó Dense normal. Não tem que ser recorrente porque queremos apenas prever um valor\n",
    "modelR2 = keras.models.Sequential([\n",
    "    \n",
    "    # Completar\n",
    "    \n",
    "    keras.layers.Dense(1)\n",
    "])\n"
   ]
  },
  {
   "cell_type": "code",
   "execution_count": null,
   "metadata": {
    "colab": {
     "base_uri": "https://localhost:8080/"
    },
    "executionInfo": {
     "elapsed": 235,
     "status": "ok",
     "timestamp": 1649694376338,
     "user": {
      "displayName": "Francisco Pereira.",
      "userId": "18056300573999971806"
     },
     "user_tz": -60
    },
    "id": "SpogiiCHG0Ik",
    "outputId": "567d2d16-b14a-4f4a-de7b-27b011de3c94"
   },
   "outputs": [],
   "source": [
    "# Explicar o número de parâmetros do modelo modelR2\n",
    "modelR2.summary()"
   ]
  },
  {
   "cell_type": "code",
   "execution_count": null,
   "metadata": {
    "colab": {
     "base_uri": "https://localhost:8080/"
    },
    "executionInfo": {
     "elapsed": 624673,
     "status": "ok",
     "timestamp": 1649695003726,
     "user": {
      "displayName": "Francisco Pereira.",
      "userId": "18056300573999971806"
     },
     "user_tz": -60
    },
    "id": "Nsaj93C6G2pp",
    "outputId": "68aac2d3-ceac-412c-d0c9-a323302fdcc9"
   },
   "outputs": [],
   "source": [
    "modelR2.compile(loss=\"mse\", optimizer=\"adam\")\n",
    "\n",
    "history = modelR2.fit(X_train, y_train, epochs=20,\n",
    "                    validation_data=(X_valid, y_valid))"
   ]
  },
  {
   "cell_type": "code",
   "execution_count": null,
   "metadata": {
    "colab": {
     "base_uri": "https://localhost:8080/"
    },
    "executionInfo": {
     "elapsed": 530,
     "status": "ok",
     "timestamp": 1649695009428,
     "user": {
      "displayName": "Francisco Pereira.",
      "userId": "18056300573999971806"
     },
     "user_tz": -60
    },
    "id": "JI-gtDwmG4vU",
    "outputId": "7ca00f97-5fb1-4ad5-8048-62c21e01dac4"
   },
   "outputs": [],
   "source": [
    "# Avaliar o desempenho no conjunto de teste\n",
    "modelR2.evaluate(X_test, y_test)"
   ]
  },
  {
   "cell_type": "code",
   "execution_count": null,
   "metadata": {
    "id": "4XT75tBcaywS"
   },
   "outputs": [],
   "source": [
    "# Abordagem 3: Substituir as células RNN simples por LSTM\n",
    "# https://www.tensorflow.org/api_docs/python/tf/keras/layers/LSTM\n",
    "\n",
    "keras.backend.clear_session()\n",
    "np.random.seed(42)\n",
    "tf.random.set_seed(42)\n",
    "\n",
    "modelR3 = keras.models.Sequential([\n",
    "    \n",
    "    # Completar\n",
    "    \n",
    "    keras.layers.Dense(1)\n",
    "])"
   ]
  },
  {
   "cell_type": "code",
   "execution_count": null,
   "metadata": {
    "id": "ldnifC2_a01K"
   },
   "outputs": [],
   "source": [
    "# Aumento muito significativo do número de parâmetros\n",
    "# O treino vai demorar mais\n",
    "\n",
    "modelR3.summary()"
   ]
  },
  {
   "cell_type": "code",
   "execution_count": null,
   "metadata": {
    "id": "7eUClBqha1gd"
   },
   "outputs": [],
   "source": [
    "modelR3.compile(loss=\"mse\", optimizer=\"adam\")\n",
    "\n",
    "history = modelR3.fit(X_train, y_train, epochs=20,\n",
    "                    validation_data=(X_valid, y_valid))"
   ]
  },
  {
   "cell_type": "code",
   "execution_count": null,
   "metadata": {
    "id": "8UyDtADBbbij"
   },
   "outputs": [],
   "source": [
    "# Avaliar o desempenho no conjunto de teste\n",
    "modelR3.evaluate(X_test, y_test)"
   ]
  },
  {
   "cell_type": "code",
   "execution_count": null,
   "metadata": {
    "id": "5tpgklNmbeyf"
   },
   "outputs": [],
   "source": [
    "# Propostas de Trabalho\n",
    "\n",
    "# 1. Substituir as células LSTM por células GRU e analisar eventuais variações nos resultados obtidos\n",
    "\n",
    "# 2. Poderão igualmente ser testadas diferentes alterações na arquitetura das RNN ou nos hiper-parâmetros definidos\n",
    "\n",
    "# 3. É possível combinar camadas CNN e camadas RNN numa rede\n",
    "#    No contexto de séries temporais, as camadas 1D CNN servem para fazer operações de convolução a nível temporal\n",
    "#    Utilizar 1D CNN para fazer o downsampling da sequência e para criar vários filtros\n",
    "#    https://www.tensorflow.org/api_docs/python/tf/keras/layers/Conv1D"
   ]
  }
 ],
 "metadata": {
  "accelerator": "GPU",
  "colab": {
   "authorship_tag": "ABX9TyMLNh5RYC5ntPkXMo6UTo0S",
   "collapsed_sections": [],
   "name": "AD2122_Aula7_ST.ipynb",
   "provenance": []
  },
  "kernelspec": {
   "display_name": "Python 3",
   "language": "python",
   "name": "python3"
  },
  "language_info": {
   "codemirror_mode": {
    "name": "ipython",
    "version": 3
   },
   "file_extension": ".py",
   "mimetype": "text/x-python",
   "name": "python",
   "nbconvert_exporter": "python",
   "pygments_lexer": "ipython3",
   "version": "3.6.11"
  }
 },
 "nbformat": 4,
 "nbformat_minor": 1
}
