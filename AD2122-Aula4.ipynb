{
 "cells": [
  {
   "cell_type": "code",
   "execution_count": null,
   "metadata": {},
   "outputs": [],
   "source": [
    "# Python ≥3.5 is required\n",
    "import sys\n",
    "assert sys.version_info >= (3, 5)\n",
    "\n",
    "# Scikit-Learn ≥0.20 is required\n",
    "import sklearn\n",
    "assert sklearn.__version__ >= \"0.20\"\n",
    "\n",
    "try:\n",
    "    # %tensorflow_version only exists in Colab.\n",
    "    %tensorflow_version 2.x\n",
    "except Exception:\n",
    "    pass\n",
    "\n",
    "# TensorFlow ≥2.0 is required\n",
    "import tensorflow as tf\n",
    "assert tf.__version__ >= \"2.0\"\n",
    "\n",
    "# Common imports\n",
    "import numpy as np\n",
    "import os\n",
    "\n",
    "# to make this notebook's output stable across runs\n",
    "np.random.seed(42)\n",
    "\n",
    "# To plot pretty figures\n",
    "%matplotlib inline\n",
    "import matplotlib as mpl\n",
    "import matplotlib.pyplot as plt\n",
    "mpl.rc('axes', labelsize=14)\n",
    "mpl.rc('xtick', labelsize=12)\n",
    "mpl.rc('ytick', labelsize=12)\n",
    "\n",
    "\n",
    "# Ignore useless warnings (see SciPy issue #5998)\n",
    "import warnings\n",
    "warnings.filterwarnings(action=\"ignore\", message=\"^internal gelsd\")"
   ]
  },
  {
   "cell_type": "code",
   "execution_count": null,
   "metadata": {},
   "outputs": [],
   "source": [
    "from tensorflow import keras\n",
    "from tensorflow.keras.preprocessing import image_dataset_from_directory"
   ]
  },
  {
   "cell_type": "code",
   "execution_count": null,
   "metadata": {},
   "outputs": [],
   "source": [
    "# Parte 1\n",
    "# Obtenção e carregamento do Dataset\n",
    "# Criação dos objetos Dataset e pré-processamento dos dados\n",
    "\n",
    "# Fazer um download de um dataset contendo imagens de caes e gatos.  \n",
    "# O método get_file() faz o download e extrai a informação do zip: \n",
    "# https://www.tensorflow.org/api_docs/python/tf/keras/utils/get_file\n",
    "# A informação fica na pasta datasets da diretoria corrente (confirmar a divisão por pastas)\n",
    "\n",
    "import os \n",
    "\n",
    "_URL = 'https://storage.googleapis.com/mledu-datasets/cats_and_dogs_filtered.zip'\n",
    "\n",
    "path_to_zip = tf.keras.utils.get_file('cats_and_dogs.zip', origin=_URL, extract=True, cache_dir=os.curdir)\n",
    "PATH = os.path.join(os.path.dirname(path_to_zip), 'cats_and_dogs_filtered')"
   ]
  },
  {
   "cell_type": "code",
   "execution_count": null,
   "metadata": {},
   "outputs": [],
   "source": [
    "# Criação e pré-processamento dos datasets (neste caso, vamos usar apenas datasets de treino e de validação)\n",
    "\n",
    "IMG_SIZE = (160, 160)\n",
    "\n",
    "train_dir = os.path.join(PATH, 'train')\n",
    "validation_dir = os.path.join(PATH, 'validation')\n",
    "\n",
    "train_ds = image_dataset_from_directory(train_dir, shuffle=True, seed=11, image_size=IMG_SIZE)\n",
    "val_ds = image_dataset_from_directory(validation_dir, shuffle=True, seed=11, image_size=IMG_SIZE)\n",
    "\n",
    "class_names = train_ds.class_names\n",
    "\n",
    "train_ds = train_ds.cache().prefetch(1)\n",
    "val_ds = val_ds.cache().prefetch(1)\n",
    "\n",
    "normalization_layer = keras.layers.experimental.preprocessing.Rescaling(1./255)\n",
    "\n",
    "train_ds = train_ds.map(lambda x, y: (normalization_layer(x), y))\n",
    "val_ds = val_ds.map(lambda x, y: (normalization_layer(x), y))\n"
   ]
  },
  {
   "cell_type": "code",
   "execution_count": null,
   "metadata": {},
   "outputs": [],
   "source": [
    "# Parte 2\n",
    "# Análise detalhada das transformações aplicadas a imagens pelas camadas habituais de uma CNN\n",
    "\n",
    "# Visualizar alguns exemplos\n",
    "\n",
    "plt.figure(figsize=(10, 10))\n",
    "for images, labels in train_ds.take(1):\n",
    "    for i in range(9):\n",
    "        ax = plt.subplot(3, 3, i + 1)\n",
    "        plt.imshow(images[i].numpy().astype(\"float32\")) #pode ser transformado num array numpy \n",
    "        plt.title(class_names[labels[i]])\n",
    "        plt.axis(\"off\")"
   ]
  },
  {
   "cell_type": "code",
   "execution_count": null,
   "metadata": {},
   "outputs": [],
   "source": [
    "# Obter 2 imagens para análise mais detalhada \n",
    "# No código só estão a ser visualizados os efeitos na primeira imagem. Alterar para ver o que acontece com a outra\n",
    "\n",
    "for images, labels in train_ds.take(1):\n",
    "    im1 = images[0].numpy().astype(\"float32\")\n",
    "    label1 = labels[0]\n",
    "    im2 = images[1].numpy().astype(\"float32\")\n",
    "    label2 = labels[1]\n",
    "    \n",
    "    \n",
    "plt.figure(figsize=(10, 10))\n",
    "\n",
    "ax = plt.subplot(1, 2, 1)\n",
    "plt.imshow(im1)\n",
    "plt.title(class_names[label1])\n",
    "plt.axis(\"off\")\n",
    "ax = plt.subplot(1, 2, 2)\n",
    "plt.imshow(im2)\n",
    "plt.title(class_names[label2])\n",
    "plt.axis(\"off\")"
   ]
  },
  {
   "cell_type": "code",
   "execution_count": null,
   "metadata": {},
   "outputs": [],
   "source": [
    "# Ajustar a dimensão do Tensor (adicionar a dimensão batch para que possa ser processada por layers)\n",
    "im1 = tf.expand_dims(im1, axis=0)\n",
    "\n",
    "im1.shape"
   ]
  },
  {
   "cell_type": "code",
   "execution_count": null,
   "metadata": {},
   "outputs": [],
   "source": [
    "# Criar filtros verticais e horizontais \n",
    "# A última dimensão define o número de canais de output - neste caso é apenas 1 feature map por cada filtro\n",
    "\n",
    "# Podem alterar os filtros para verificar se existem diferenças nos feature maps que são produzidos\n",
    "\n",
    "filter1 = np.zeros(shape=(7,7,3,1), dtype = np.float32)\n",
    "\n",
    "filter2 = np.zeros(shape=(7,7,3,1), dtype = np.float32)\n",
    "\n",
    "filter1[: , 3 , : ,] = 2\n",
    "filter1[: , 1 , : ,] = -1\n",
    "filter1[: , 5 , : ,] = -1\n",
    "\n",
    "\n",
    "filter2[3 , : , :,] = 2\n",
    "filter2[1 , : , :,] = -1\n",
    "filter2[5 , : , :,] = -1"
   ]
  },
  {
   "cell_type": "code",
   "execution_count": null,
   "metadata": {},
   "outputs": [],
   "source": [
    "filter1.shape"
   ]
  },
  {
   "cell_type": "code",
   "execution_count": null,
   "metadata": {},
   "outputs": [],
   "source": [
    "# Visualizar o filtro1 através das suas 3 camadas\n",
    "\n",
    "a = filter1.squeeze()\n",
    "\n",
    "R = a[:,:,0]\n",
    "G = a[:,:,1]\n",
    "B = a[:,:,2]\n",
    "\n",
    "plt.figure(figsize=(10, 10))\n",
    "\n",
    "ax = plt.subplot(1, 3, 1)\n",
    "plt.imshow(R)\n",
    "plt.title(\"R\")\n",
    "plt.axis(\"off\")\n",
    "ax = plt.subplot(1, 3, 2)\n",
    "plt.imshow(G)\n",
    "plt.title(\"G\")\n",
    "plt.axis(\"off\")\n",
    "ax = plt.subplot(1, 3, 3)\n",
    "plt.imshow(B)\n",
    "plt.title(\"B\")\n",
    "plt.axis(\"off\")"
   ]
  },
  {
   "cell_type": "code",
   "execution_count": null,
   "metadata": {},
   "outputs": [],
   "source": [
    "# Completar o código para visualizar o filtro2"
   ]
  },
  {
   "cell_type": "code",
   "execution_count": null,
   "metadata": {},
   "outputs": [],
   "source": [
    "# Aplicar CNN a cada uma das imagens\n",
    "# Neste caso está a ser usado o método diretamente da biblioteca TensorFlow - Não estamos a usar a API Keras\n",
    "# https://www.tensorflow.org/api_docs/python/tf/nn\n",
    "# https://www.tensorflow.org/api_docs/python/tf/nn/conv2d\n",
    "# Ainda não está a ser aplicada a função de ativação\n",
    "\n",
    "output1 = tf.nn.conv2d(im1, filter1, strides=1, padding=\"SAME\")\n",
    "output2 = tf.nn.conv2d(im1, filter2, strides=1, padding=\"SAME\")"
   ]
  },
  {
   "cell_type": "code",
   "execution_count": null,
   "metadata": {},
   "outputs": [],
   "source": [
    "# Qual é a dimensão do output? Porquê?\n",
    "\n"
   ]
  },
  {
   "cell_type": "code",
   "execution_count": null,
   "metadata": {},
   "outputs": [],
   "source": [
    "#Visualizar o feature map obtido por cada um dos filtros\n",
    "#https://www.tensorflow.org/api_docs/python/tf/squeeze\n",
    "\n",
    "fm1 = tf.squeeze(output1)\n",
    "fm2 = tf.squeeze(output2)\n",
    "\n",
    "plt.figure(figsize=(50, 50))\n",
    "\n",
    "ax = plt.subplot(1, 2, 1)\n",
    "plt.imshow(fm1, cmap=\"binary\")\n",
    "plt.title(\"Vertical\", fontsize=30)\n",
    "plt.axis(\"off\")\n",
    "ax = plt.subplot(1, 2, 2)\n",
    "plt.imshow(fm2, cmap=\"binary\")\n",
    "plt.title(\"Horizontal\", fontsize=30)\n",
    "plt.axis(\"off\")\n",
    "\n",
    "# Analisar os padrões que se salientam nas imagens obtidas"
   ]
  },
  {
   "cell_type": "code",
   "execution_count": null,
   "metadata": {},
   "outputs": [],
   "source": [
    "# Aplicar função de ativação RELU\n",
    "# https://www.tensorflow.org/api_docs/python/tf/nn/relu\n",
    "\n",
    "final1 = tf.nn.relu(output1)\n",
    "final2 = tf.nn.relu(output2)"
   ]
  },
  {
   "cell_type": "code",
   "execution_count": null,
   "metadata": {},
   "outputs": [],
   "source": [
    "# Confirmar a dimensão do output.\n",
    "\n"
   ]
  },
  {
   "cell_type": "code",
   "execution_count": null,
   "metadata": {},
   "outputs": [],
   "source": [
    "#Visualizar o feature map obtido após a aplicação da função de ativação\n",
    "#https://www.tensorflow.org/api_docs/python/tf/squeeze\n",
    "\n",
    "fmF1 = tf.squeeze(final1)\n",
    "fmF2 = tf.squeeze(final2)\n",
    "\n",
    "plt.figure(figsize=(50, 50))\n",
    "\n",
    "ax = plt.subplot(1, 2, 1)\n",
    "plt.imshow(fmF1, cmap=\"binary\")\n",
    "plt.title(\"Vertical\", fontsize=30)\n",
    "plt.axis(\"off\")\n",
    "ax = plt.subplot(1, 2, 2)\n",
    "plt.imshow(fmF2, cmap=\"binary\")\n",
    "plt.title(\"Horizontal\", fontsize=30)\n",
    "plt.axis(\"off\")"
   ]
  },
  {
   "cell_type": "code",
   "execution_count": null,
   "metadata": {},
   "outputs": [],
   "source": [
    "# Exercício: Qual a dimensão dos mapas de outputs em cada uma destas 4 situações?\n",
    "# Dimensões de input: Imagem (160, 160, 3), Filtro (7, 7, 3)\n",
    "\n",
    "outputE0 = tf.nn.conv2d(im1, filter1, strides=1, padding=\"SAME\")\n",
    "\n",
    "outputE1 = tf.nn.conv2d(im1, filter1, strides=2, padding=\"SAME\")\n",
    "\n",
    "outputE2 = tf.nn.conv2d(im1, filter1, strides=1, padding=\"VALID\")\n",
    "\n",
    "outputE3 = tf.nn.conv2d(im1, filter1, strides=2, padding=\"VALID\")"
   ]
  },
  {
   "cell_type": "code",
   "execution_count": null,
   "metadata": {},
   "outputs": [],
   "source": [
    "# Verificar os resultados aqui\n"
   ]
  },
  {
   "cell_type": "code",
   "execution_count": null,
   "metadata": {},
   "outputs": [],
   "source": [
    "# Aplicação de uma camada MaxPool\n",
    "\n",
    "pool1 = tf.nn.max_pool(final1, 2, strides=2, padding=\"SAME\")\n",
    "pool2 = tf.nn.max_pool(final2, 2, strides=2, padding=\"SAME\")"
   ]
  },
  {
   "cell_type": "code",
   "execution_count": null,
   "metadata": {},
   "outputs": [],
   "source": [
    "#Confirmar o Downsampling da imagem\n",
    "\n"
   ]
  },
  {
   "cell_type": "code",
   "execution_count": null,
   "metadata": {},
   "outputs": [],
   "source": [
    "#Visualizar o feature map obtido após a aplicação da função de maxpool\n",
    "\n",
    "plt.figure(figsize=(20, 20))\n",
    "\n",
    "p1 = tf.squeeze(pool1)\n",
    "p2 = tf.squeeze(pool2)\n",
    "\n",
    "ax = plt.subplot(1, 2, 1)\n",
    "plt.imshow(p1, cmap=\"binary\")\n",
    "plt.title(\"Vertical\", fontsize=30)\n",
    "plt.axis(\"off\")\n",
    "ax = plt.subplot(1, 2, 2)\n",
    "plt.imshow(p2, cmap=\"binary\")\n",
    "plt.title(\"Horizontal\", fontsize=30)\n",
    "plt.axis(\"off\")"
   ]
  },
  {
   "cell_type": "code",
   "execution_count": null,
   "metadata": {},
   "outputs": [],
   "source": [
    "# Parte 3\n",
    "\n",
    "# Criação, compilação e treino de uma CNN\n",
    "# Análise de resultados \n",
    "\n",
    "\n",
    "# Criação de uma CNN Simples\n",
    "\n",
    "keras.backend.clear_session()\n",
    "tf.random.set_seed(42)\n",
    "np.random.seed(42)"
   ]
  },
  {
   "cell_type": "code",
   "execution_count": null,
   "metadata": {},
   "outputs": [],
   "source": [
    "# Vai ser usada a API funcional para criar o modelo\n",
    "# https://www.tensorflow.org/api_docs/python/tf/keras/Model\n",
    "#https://www.tensorflow.org/guide/keras/functional\n",
    "# https://keras.io/api/layers/\n",
    "\n",
    "inputs = keras.Input(shape=(160,160,3))\n",
    "a = keras.layers.Conv2D(filters=32, kernel_size=3, activation='relu', padding='same')(inputs)\n",
    "b = keras.layers.MaxPooling2D()(a)\n",
    "c = keras.layers.Conv2D(32, 3, activation='relu',padding='same')(b)\n",
    "d = keras.layers.Conv2D(64, 3, activation='relu',padding='same')(c)\n",
    "e = keras.layers.MaxPooling2D()(d)\n",
    "f = keras.layers.Flatten()(e)\n",
    "g = keras.layers.Dense(64, activation='relu')(f)\n",
    "outputs = keras.layers.Dense(1, activation=\"sigmoid\")(g)\n",
    "\n",
    "model = keras.Model(inputs=inputs, outputs=outputs)\n"
   ]
  },
  {
   "cell_type": "code",
   "execution_count": null,
   "metadata": {},
   "outputs": [],
   "source": [
    "# Exercício: Descrever as características desta CNN\n",
    "\n",
    "# Quais são as camadas de extração de features?\n",
    "\n",
    "# Quais são as camadas de classificação?\n"
   ]
  },
  {
   "cell_type": "code",
   "execution_count": null,
   "metadata": {},
   "outputs": [],
   "source": [
    "# Mostrar detalhes e sumario\n",
    "# Explicar o número de parâmetros de cada camada\n",
    "\n"
   ]
  },
  {
   "cell_type": "code",
   "execution_count": null,
   "metadata": {},
   "outputs": [],
   "source": [
    "#Obter detalhes da terceira camada CNN (4ª camada da rede)\n",
    "\n",
    "my_layer = model.layers[3]\n",
    "my_layer.name"
   ]
  },
  {
   "cell_type": "code",
   "execution_count": null,
   "metadata": {},
   "outputs": [],
   "source": [
    "weights, biases = my_layer.get_weights()\n",
    "print(\"Weights Shape: \", weights.shape)\n",
    "print(\"Biases Shape: \", biases.shape)\n",
    "\n",
    "# Explicar os valores obtidos"
   ]
  },
  {
   "cell_type": "code",
   "execution_count": null,
   "metadata": {},
   "outputs": [],
   "source": [
    "# Compilar o modelo \n",
    "# A função de loss está ajustada ao formato da saída\n",
    "\n",
    "model.compile(loss=\"binary_crossentropy\",\n",
    "              optimizer=\"adam\",\n",
    "              metrics=[\"accuracy\"])"
   ]
  },
  {
   "cell_type": "code",
   "execution_count": null,
   "metadata": {},
   "outputs": [],
   "source": [
    "history = model.fit(\n",
    "  train_ds,\n",
    "  validation_data=val_ds,\n",
    "  epochs=10\n",
    ")"
   ]
  },
  {
   "cell_type": "code",
   "execution_count": null,
   "metadata": {},
   "outputs": [],
   "source": [
    "# Visualização da evolução da accurary e da loss\n",
    "\n",
    "import pandas as pd \n",
    "history_frame = pd.DataFrame(history.history)\n",
    "history_frame.loc[:, ['loss', 'val_loss']].plot()\n",
    "history_frame.loc[:, ['accuracy', 'val_accuracy']].plot()"
   ]
  },
  {
   "cell_type": "code",
   "execution_count": null,
   "metadata": {},
   "outputs": [],
   "source": [
    "# Analisar resultados"
   ]
  },
  {
   "cell_type": "code",
   "execution_count": null,
   "metadata": {},
   "outputs": [],
   "source": [
    "# Melhorar o desempenho através da alteração da arquitetura da CNN\n",
    "# Experimente adicionar mecanismos de combate ao overfitting, como Dropout e/ou Batch Normalization\n",
    "# Adicione um callback para Early Stopping\n",
    "\n",
    "\n",
    "keras.backend.clear_session()\n",
    "tf.random.set_seed(42)\n",
    "np.random.seed(42)\n",
    "\n",
    "# CRIAR NOVO MODELO chamado model2 utilizando a API funcional\n",
    "\n"
   ]
  },
  {
   "cell_type": "code",
   "execution_count": null,
   "metadata": {},
   "outputs": [],
   "source": [
    "model2.summary()"
   ]
  },
  {
   "cell_type": "code",
   "execution_count": null,
   "metadata": {},
   "outputs": [],
   "source": [
    "# Compilar e treinar o novo modelo\n"
   ]
  },
  {
   "cell_type": "code",
   "execution_count": null,
   "metadata": {},
   "outputs": [],
   "source": [
    "# Analisar resultados\n",
    "\n"
   ]
  }
 ],
 "metadata": {
  "kernelspec": {
   "display_name": "Python 3",
   "language": "python",
   "name": "python3"
  },
  "language_info": {
   "codemirror_mode": {
    "name": "ipython",
    "version": 3
   },
   "file_extension": ".py",
   "mimetype": "text/x-python",
   "name": "python",
   "nbconvert_exporter": "python",
   "pygments_lexer": "ipython3",
   "version": "3.6.11"
  }
 },
 "nbformat": 4,
 "nbformat_minor": 4
}
