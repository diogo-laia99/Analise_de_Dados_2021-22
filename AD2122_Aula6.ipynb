{
 "cells": [
  {
   "cell_type": "code",
   "execution_count": null,
   "metadata": {
    "executionInfo": {
     "elapsed": 3391,
     "status": "ok",
     "timestamp": 1649082254693,
     "user": {
      "displayName": "Francisco Pereira.",
      "userId": "18056300573999971806"
     },
     "user_tz": -60
    },
    "id": "WEkWxAxWyUgz"
   },
   "outputs": [],
   "source": [
    "# Python ≥3.5 is required\n",
    "import sys\n",
    "assert sys.version_info >= (3, 5)\n",
    "\n",
    "# Scikit-Learn ≥0.20 is required\n",
    "import sklearn\n",
    "assert sklearn.__version__ >= \"0.20\"\n",
    "\n",
    "try:\n",
    "    # %tensorflow_version only exists in Colab.\n",
    "    %tensorflow_version 2.x\n",
    "except Exception:\n",
    "    pass\n",
    "\n",
    "# TensorFlow ≥2.0 is required\n",
    "import tensorflow as tf\n",
    "assert tf.__version__ >= \"2.0\"\n",
    "\n",
    "# Common imports\n",
    "import numpy as np\n",
    "import os\n",
    "\n",
    "# to make this notebook's output stable across runs\n",
    "np.random.seed(42)\n",
    "\n",
    "# To plot pretty figures\n",
    "%matplotlib inline\n",
    "import matplotlib as mpl\n",
    "import matplotlib.pyplot as plt\n",
    "mpl.rc('axes', labelsize=14)\n",
    "mpl.rc('xtick', labelsize=12)\n",
    "mpl.rc('ytick', labelsize=12)\n",
    "\n",
    "\n",
    "# Ignore useless warnings (see SciPy issue #5998)\n",
    "import warnings\n",
    "warnings.filterwarnings(action=\"ignore\", message=\"^internal gelsd\")"
   ]
  },
  {
   "cell_type": "code",
   "execution_count": null,
   "metadata": {
    "executionInfo": {
     "elapsed": 400,
     "status": "ok",
     "timestamp": 1649082257958,
     "user": {
      "displayName": "Francisco Pereira.",
      "userId": "18056300573999971806"
     },
     "user_tz": -60
    },
    "id": "JHdimj91yw5w"
   },
   "outputs": [],
   "source": [
    "from tensorflow import keras\n",
    "from tensorflow.keras import layers\n",
    "from tensorflow.keras.preprocessing import image_dataset_from_directory"
   ]
  },
  {
   "cell_type": "code",
   "execution_count": null,
   "metadata": {
    "colab": {
     "base_uri": "https://localhost:8080/"
    },
    "executionInfo": {
     "elapsed": 9371,
     "status": "ok",
     "timestamp": 1648727151000,
     "user": {
      "displayName": "Francisco Pereira.",
      "userId": "18056300573999971806"
     },
     "user_tz": -60
    },
    "id": "ZpJsATPKy6Jd",
    "outputId": "0cf5d616-15d0-4a89-ce0f-c43d264acc3d"
   },
   "outputs": [],
   "source": [
    "# Obter e preparar o dataset\n",
    "\n",
    "import os \n",
    "import pathlib \n",
    "\n",
    "_URL = \"https://storage.googleapis.com/download.tensorflow.org/example_images/flower_photos.tgz\"\n",
    "path_to_zip = tf.keras.utils.get_file('flower_photos', origin=_URL, untar=True, cache_dir=os.curdir)\n",
    "PATH = os.path.join(os.path.dirname(path_to_zip), 'flower_photos')\n",
    "data_dir = pathlib.Path(PATH)\n",
    "\n",
    "batch_size = 32\n",
    "IMG_SIZE = (180, 180)\n",
    "\n",
    "train_ds = tf.keras.preprocessing.image_dataset_from_directory(\n",
    "  data_dir,\n",
    "  validation_split=0.2,\n",
    "  subset=\"training\",\n",
    "  seed=123,\n",
    "  shuffle=True,\n",
    "  image_size=IMG_SIZE,\n",
    "  batch_size=batch_size)\n",
    "\n",
    "val_ds = tf.keras.preprocessing.image_dataset_from_directory(\n",
    "  data_dir,\n",
    "  validation_split=0.2,\n",
    "  subset=\"validation\",\n",
    "  seed=123,\n",
    "  shuffle=True,\n",
    "  image_size=IMG_SIZE,\n",
    "  batch_size=batch_size)\n",
    "\n",
    "class_names = train_ds.class_names"
   ]
  },
  {
   "cell_type": "code",
   "execution_count": null,
   "metadata": {
    "colab": {
     "base_uri": "https://localhost:8080/"
    },
    "executionInfo": {
     "elapsed": 5172,
     "status": "ok",
     "timestamp": 1648727453726,
     "user": {
      "displayName": "Francisco Pereira.",
      "userId": "18056300573999971806"
     },
     "user_tz": -60
    },
    "id": "GU7eg0nSy_95",
    "outputId": "606e67d3-f30a-4128-eabb-687e9a0fc6ef"
   },
   "outputs": [],
   "source": [
    "# https://www.tensorflow.org/tutorials/images/transfer_learning\n",
    "\n",
    "# Transfer Learning: Opção 1\n",
    "# Utilizar uma rede pré-treinada gravada em disco\n",
    "# Neste caso é a Inception V1 (GoogLeNet) que ganhou o ILSVRC de 2014\n",
    "# Deve existir uma pasta chamada 'inceptionv1' contendo o modelo e os pesos\n",
    "# Pode obter este modelo no Moodle. Deve manter a organização das pastas e dos ficheiros\n",
    "\n",
    "pretrained_base = tf.keras.models.load_model('inceptionv1')\n",
    "\n",
    "# Congelar os pesos \n",
    "pretrained_base.trainable = False\n"
   ]
  },
  {
   "cell_type": "code",
   "execution_count": null,
   "metadata": {
    "colab": {
     "base_uri": "https://localhost:8080/"
    },
    "executionInfo": {
     "elapsed": 1189,
     "status": "ok",
     "timestamp": 1648727640407,
     "user": {
      "displayName": "Francisco Pereira.",
      "userId": "18056300573999971806"
     },
     "user_tz": -60
    },
    "id": "tCQ4sTaw0y3F",
    "outputId": "9d9aa445-9af5-4a9d-c877-3ea5359c185f"
   },
   "outputs": [],
   "source": [
    "pretrained_base.summary()\n"
   ]
  },
  {
   "cell_type": "code",
   "execution_count": null,
   "metadata": {
    "id": "UZdif9Vy04k2"
   },
   "outputs": [],
   "source": [
    "# Criar o modelo completo\n",
    "# Poderia ser adicionada u ma camada de data augmentation ao início\n",
    "\n",
    "keras.backend.clear_session()\n",
    "tf.random.set_seed(42)\n",
    "np.random.seed(42)\n",
    "\n",
    "model = keras.Sequential([\n",
    "    keras.Input(shape=(128, 128, 3)),\n",
    "    pretrained_base,\n",
    "    layers.Flatten(),\n",
    "    layers.Dense(128, activation='relu'),\n",
    "    layers.Dropout(0.4),\n",
    "    layers.Dense(64, activation='relu'),\n",
    "    layers.Dropout(0.4),\n",
    "    layers.Dense(5, activation='softmax')\n",
    "])"
   ]
  },
  {
   "cell_type": "code",
   "execution_count": null,
   "metadata": {
    "id": "clglSna407_V"
   },
   "outputs": [],
   "source": [
    "# Compilar o modelo\n",
    "\n",
    "optimizer = tf.keras.optimizers.Adam(epsilon=0.01)\n",
    "\n",
    "model.compile(\n",
    "    optimizer=optimizer,\n",
    "    loss = 'sparse_categorical_crossentropy',\n",
    "    metrics=['accuracy'],\n",
    ")"
   ]
  },
  {
   "cell_type": "code",
   "execution_count": null,
   "metadata": {
    "colab": {
     "base_uri": "https://localhost:8080/"
    },
    "executionInfo": {
     "elapsed": 811,
     "status": "ok",
     "timestamp": 1648727684406,
     "user": {
      "displayName": "Francisco Pereira.",
      "userId": "18056300573999971806"
     },
     "user_tz": -60
    },
    "id": "GWcFl-MJ0-jf",
    "outputId": "88a96047-5c15-415c-f3a0-2db0f36411f8"
   },
   "outputs": [],
   "source": [
    "model.summary()"
   ]
  },
  {
   "cell_type": "code",
   "execution_count": null,
   "metadata": {
    "id": "WOYgojAJ1Ayy"
   },
   "outputs": [],
   "source": [
    "# Preparar o Dataset: ajustar o tamanho das imagens e aplicar operações de pré-processamento\n",
    "size = (128, 128)\n",
    "\n",
    "train_ds_IncV1 = train_ds.map(lambda x, y: (tf.image.resize(x, size), y))\n",
    "val_ds_IncV1 = val_ds.map(lambda x, y: (tf.image.resize(x, size), y))\n",
    "\n",
    "train_ds_IncV1 = train_ds_IncV1.cache().prefetch(1)\n",
    "val_ds_IncV1 = val_ds_IncV1.cache().prefetch(1)\n",
    "\n",
    "normalization_layer = keras.layers.experimental.preprocessing.Rescaling(1./255)\n",
    "\n",
    "train_ds_IncV1 = train_ds_IncV1.map(lambda x, y: (normalization_layer(x), y))\n",
    "val_ds_IncV1 = val_ds_IncV1.map(lambda x, y: (normalization_layer(x), y))\n",
    "\n"
   ]
  },
  {
   "cell_type": "code",
   "execution_count": null,
   "metadata": {
    "colab": {
     "base_uri": "https://localhost:8080/"
    },
    "executionInfo": {
     "elapsed": 111940,
     "status": "ok",
     "timestamp": 1648727831694,
     "user": {
      "displayName": "Francisco Pereira.",
      "userId": "18056300573999971806"
     },
     "user_tz": -60
    },
    "id": "p8uxYusH1D18",
    "outputId": "b3f140ad-c08b-4678-aafc-9d4bbb91441e"
   },
   "outputs": [],
   "source": [
    "# Treinar\n",
    "\n",
    "history = model.fit(\n",
    "    train_ds_IncV1,\n",
    "    validation_data=val_ds_IncV1,\n",
    "    epochs=15,\n",
    ")"
   ]
  },
  {
   "cell_type": "code",
   "execution_count": null,
   "metadata": {
    "colab": {
     "base_uri": "https://localhost:8080/",
     "height": 539
    },
    "executionInfo": {
     "elapsed": 1218,
     "status": "ok",
     "timestamp": 1648727852676,
     "user": {
      "displayName": "Francisco Pereira.",
      "userId": "18056300573999971806"
     },
     "user_tz": -60
    },
    "id": "HqoXTRp11nYh",
    "outputId": "40fc409e-5df2-4efe-d0a1-a466dcde1726"
   },
   "outputs": [],
   "source": [
    "# Visualizar os resultados\n",
    "# Visualização da evolução da accurary e da loss\n",
    "\n",
    "import pandas as pd \n",
    "history_frame = pd.DataFrame(history.history)\n",
    "history_frame.loc[:, ['loss', 'val_loss']].plot()\n",
    "history_frame.loc[:, ['accuracy', 'val_accuracy']].plot()"
   ]
  },
  {
   "cell_type": "code",
   "execution_count": null,
   "metadata": {
    "id": "rXfoFvgI1qkO"
   },
   "outputs": [],
   "source": [
    "# Descongelar os pesos da componente pré-treinada\n",
    "\n",
    "pretrained_base.trainable = True"
   ]
  },
  {
   "cell_type": "code",
   "execution_count": null,
   "metadata": {
    "id": "M3ki_gC21tMK"
   },
   "outputs": [],
   "source": [
    "# Voltar a compilar\n",
    "\n",
    "optimizer = tf.keras.optimizers.Adam(epsilon=0.01)\n",
    "\n",
    "model.compile(\n",
    "    optimizer=optimizer,\n",
    "    loss = 'sparse_categorical_crossentropy',\n",
    "    metrics=['accuracy'],\n",
    ")"
   ]
  },
  {
   "cell_type": "code",
   "execution_count": null,
   "metadata": {
    "colab": {
     "base_uri": "https://localhost:8080/"
    },
    "executionInfo": {
     "elapsed": 200467,
     "status": "ok",
     "timestamp": 1648728093319,
     "user": {
      "displayName": "Francisco Pereira.",
      "userId": "18056300573999971806"
     },
     "user_tz": -60
    },
    "id": "VFevUPu11wBi",
    "outputId": "81dfde7b-368b-4596-d7b9-108638db2b28"
   },
   "outputs": [],
   "source": [
    "# Treinar mais um pouco \n",
    "# Agora vai demorar mais a completar cada época de treino, uma vez que todos os pesos estão a ser ajustados\n",
    "# O número de épocas é baixo e a CNN ainda não deverá ter estabilizado no final do treino (confirmar no gráfico)\n",
    "\n",
    "history = model.fit(\n",
    "    train_ds_IncV1,\n",
    "    validation_data=val_ds_IncV1,\n",
    "    epochs=10,\n",
    ")"
   ]
  },
  {
   "cell_type": "code",
   "execution_count": null,
   "metadata": {
    "colab": {
     "base_uri": "https://localhost:8080/",
     "height": 537
    },
    "executionInfo": {
     "elapsed": 2279,
     "status": "ok",
     "timestamp": 1648728151855,
     "user": {
      "displayName": "Francisco Pereira.",
      "userId": "18056300573999971806"
     },
     "user_tz": -60
    },
    "id": "Ti5X91Qc2wH0",
    "outputId": "45e1c9e1-7f2b-44af-f03f-5804a26e36d6"
   },
   "outputs": [],
   "source": [
    "# Visualizar os resultados\n",
    "# Visualização da evolução da accurary e da loss\n",
    "\n",
    "history_frame = pd.DataFrame(history.history)\n",
    "history_frame.loc[:, ['loss', 'val_loss']].plot()\n",
    "history_frame.loc[:, ['accuracy', 'val_accuracy']].plot()"
   ]
  },
  {
   "cell_type": "code",
   "execution_count": null,
   "metadata": {
    "id": "Y_w2kbN-2-rv"
   },
   "outputs": [],
   "source": [
    "keras.backend.clear_session()\n",
    "tf.random.set_seed(42)\n",
    "np.random.seed(42)"
   ]
  },
  {
   "cell_type": "code",
   "execution_count": null,
   "metadata": {
    "colab": {
     "base_uri": "https://localhost:8080/"
    },
    "executionInfo": {
     "elapsed": 3520,
     "status": "ok",
     "timestamp": 1648728247643,
     "user": {
      "displayName": "Francisco Pereira.",
      "userId": "18056300573999971806"
     },
     "user_tz": -60
    },
    "id": "4AYEeTBe3HSg",
    "outputId": "038e3a8c-bd27-4c91-86fc-7a9f8235a2a8"
   },
   "outputs": [],
   "source": [
    "# https://keras.io/api/applications/\n",
    "\n",
    "# Transfer Learning: Opção 2\n",
    "# Usar um dos modelos pré-treinados disponíveis no Keras\n",
    "# Neste caso é a ResNet50, uma variante simplificada da CNN que ganhou o ILSVRC de 2015\n",
    "\n",
    "myResNet = keras.applications.resnet50.ResNet50(weights=\"imagenet\", include_top=False)\n",
    "\n",
    "myResNet.trainable = False"
   ]
  },
  {
   "cell_type": "code",
   "execution_count": null,
   "metadata": {
    "id": "DgRGNnM63LMy"
   },
   "outputs": [],
   "source": [
    "# Criar o modelo completo\n",
    "# A camada de global average pooling transforma a informação para uma estrutura linear \n",
    "modelR = keras.Sequential([\n",
    "    keras.Input(shape=(224, 224, 3)),\n",
    "    myResNet,\n",
    "    layers.GlobalAveragePooling2D(),\n",
    "    layers.Dense(128, activation='relu'),\n",
    "    layers.Dropout(0.4),\n",
    "    layers.Dense(64, activation='relu'),\n",
    "    layers.Dropout(0.4),\n",
    "    layers.Dense(5, activation='softmax')\n",
    "])"
   ]
  },
  {
   "cell_type": "code",
   "execution_count": null,
   "metadata": {
    "colab": {
     "base_uri": "https://localhost:8080/"
    },
    "executionInfo": {
     "elapsed": 3060,
     "status": "ok",
     "timestamp": 1648728280953,
     "user": {
      "displayName": "Francisco Pereira.",
      "userId": "18056300573999971806"
     },
     "user_tz": -60
    },
    "id": "BZ0cN8MK3PZw",
    "outputId": "0f215e2a-731f-4a1b-e8f1-c44b7b91b34e"
   },
   "outputs": [],
   "source": [
    "myResNet.summary()"
   ]
  },
  {
   "cell_type": "code",
   "execution_count": null,
   "metadata": {
    "colab": {
     "base_uri": "https://localhost:8080/"
    },
    "executionInfo": {
     "elapsed": 631,
     "status": "ok",
     "timestamp": 1648728301545,
     "user": {
      "displayName": "Francisco Pereira.",
      "userId": "18056300573999971806"
     },
     "user_tz": -60
    },
    "id": "0VGhUW1k3VMW",
    "outputId": "751d6f00-64d9-4d25-f5f2-1da4222739ec"
   },
   "outputs": [],
   "source": [
    "modelR.summary()"
   ]
  },
  {
   "cell_type": "code",
   "execution_count": null,
   "metadata": {
    "id": "1iaLMVFS3Yd3"
   },
   "outputs": [],
   "source": [
    "# Pré-processammento\n",
    "# Necessário chamar método tf.keras.applications.resnet.preprocess_input para preparar o input\n",
    "\n",
    "def preprocess(image, label):\n",
    "    resized_image = tf.image.resize(image, [224, 224])\n",
    "    final_image = keras.applications.resnet.preprocess_input(resized_image)\n",
    "    return final_image, label\n",
    "\n",
    "#normalization_layer = keras.layers.experimental.preprocessing.Rescaling(1./255)\n",
    "\n",
    "#train_ds_RN = train_ds.map(lambda x, y: (normalization_layer(x), y))\n",
    "#val_ds_RN = val_ds.map(lambda x, y: (normalization_layer(x), y))\n",
    "\n",
    "train_ds_RN = train_ds.map(preprocess).cache().prefetch(1)\n",
    "val_ds_RN = val_ds.map(preprocess).cache().prefetch(1)"
   ]
  },
  {
   "cell_type": "code",
   "execution_count": null,
   "metadata": {
    "id": "h8WnarIx3b1W"
   },
   "outputs": [],
   "source": [
    "# Compilar Modelo R\n",
    "\n",
    "optimizer = tf.keras.optimizers.Adam(epsilon=0.01)\n",
    "\n",
    "modelR.compile(\n",
    "    optimizer=optimizer,\n",
    "    loss = 'sparse_categorical_crossentropy',\n",
    "    metrics=['accuracy'],\n",
    ")"
   ]
  },
  {
   "cell_type": "code",
   "execution_count": null,
   "metadata": {
    "colab": {
     "base_uri": "https://localhost:8080/"
    },
    "executionInfo": {
     "elapsed": 498362,
     "status": "ok",
     "timestamp": 1648728841669,
     "user": {
      "displayName": "Francisco Pereira.",
      "userId": "18056300573999971806"
     },
     "user_tz": -60
    },
    "id": "rkhNrO_O3fR5",
    "outputId": "771aa2f7-4a15-4672-cd3f-ef9eb0cd8954"
   },
   "outputs": [],
   "source": [
    "# Treinar (vai demorar se não estiver a ser usada uma GPU ou TPU)\n",
    "\n",
    "\n",
    "history = modelR.fit(\n",
    "    train_ds_RN,\n",
    "    validation_data=val_ds_RN,\n",
    "    epochs=15,\n",
    ")"
   ]
  },
  {
   "cell_type": "code",
   "execution_count": null,
   "metadata": {
    "colab": {
     "base_uri": "https://localhost:8080/",
     "height": 537
    },
    "executionInfo": {
     "elapsed": 1456,
     "status": "ok",
     "timestamp": 1648730322859,
     "user": {
      "displayName": "Francisco Pereira.",
      "userId": "18056300573999971806"
     },
     "user_tz": -60
    },
    "id": "-zfhNWVK_CW6",
    "outputId": "c697b116-1a70-4f19-8302-4c2a7bea0c98"
   },
   "outputs": [],
   "source": [
    "# Visualizar os resultados\n",
    "# Visualização da evolução da accurary e da loss\n",
    "\n",
    "import pandas as pd \n",
    "history_frame = pd.DataFrame(history.history)\n",
    "history_frame.loc[:, ['loss', 'val_loss']].plot()\n",
    "history_frame.loc[:, ['accuracy', 'val_accuracy']].plot()"
   ]
  },
  {
   "cell_type": "code",
   "execution_count": null,
   "metadata": {
    "id": "w4-woViV_GQt"
   },
   "outputs": [],
   "source": [
    "# Descongelar os pesos da componente pré-treinada\n",
    "\n",
    "myResNet.trainable = True"
   ]
  },
  {
   "cell_type": "code",
   "execution_count": null,
   "metadata": {
    "id": "tYAUbymn_JeZ"
   },
   "outputs": [],
   "source": [
    "# Voltar a compilar\n",
    "\n",
    "optimizer = tf.keras.optimizers.Adam(epsilon=0.01)\n",
    "\n",
    "modelR.compile(\n",
    "    optimizer=optimizer,\n",
    "    loss = 'sparse_categorical_crossentropy',\n",
    "    metrics=['accuracy'],\n",
    ")"
   ]
  },
  {
   "cell_type": "code",
   "execution_count": null,
   "metadata": {
    "colab": {
     "base_uri": "https://localhost:8080/"
    },
    "executionInfo": {
     "elapsed": 1112233,
     "status": "ok",
     "timestamp": 1648731490109,
     "user": {
      "displayName": "Francisco Pereira.",
      "userId": "18056300573999971806"
     },
     "user_tz": -60
    },
    "id": "DpQyQByw_NII",
    "outputId": "4b86e3e4-7c33-4b48-e772-cb68aab995e9"
   },
   "outputs": [],
   "source": [
    "\n",
    "# Treinar mais um pouco \n",
    "# Agora vai demorar muito mais tempo a completar cada época de treino, uma vez que todos os pesos estão a ser ajustados\n",
    "# O número de épocas é baixo e a CNN ainda não deverá ter estabilizado no final do treino (confirmar no gráfico)\n",
    "\n",
    "history = modelR.fit(\n",
    "    train_ds_RN,\n",
    "    validation_data=val_ds_RN,\n",
    "    epochs=15,\n",
    ")"
   ]
  },
  {
   "cell_type": "code",
   "execution_count": null,
   "metadata": {
    "colab": {
     "base_uri": "https://localhost:8080/",
     "height": 537
    },
    "executionInfo": {
     "elapsed": 3384,
     "status": "ok",
     "timestamp": 1648731979420,
     "user": {
      "displayName": "Francisco Pereira.",
      "userId": "18056300573999971806"
     },
     "user_tz": -60
    },
    "id": "0LnghvTUFWVe",
    "outputId": "b913aa46-1c75-4cca-ce0d-7f0c1246922e"
   },
   "outputs": [],
   "source": [
    "# Visualizar os resultados\n",
    "# Visualização da evolução da accurary e da loss\n",
    "\n",
    "import pandas as pd \n",
    "history_frame = pd.DataFrame(history.history)\n",
    "history_frame.loc[:, ['loss', 'val_loss']].plot()\n",
    "history_frame.loc[:, ['accuracy', 'val_accuracy']].plot()"
   ]
  }
 ],
 "metadata": {
  "accelerator": "GPU",
  "colab": {
   "authorship_tag": "ABX9TyMyjBp0A3Nb0+qGaskFc+dW",
   "collapsed_sections": [],
   "name": "AD2122_Aula6.ipynb",
   "provenance": []
  },
  "kernelspec": {
   "display_name": "Python 3",
   "language": "python",
   "name": "python3"
  },
  "language_info": {
   "codemirror_mode": {
    "name": "ipython",
    "version": 3
   },
   "file_extension": ".py",
   "mimetype": "text/x-python",
   "name": "python",
   "nbconvert_exporter": "python",
   "pygments_lexer": "ipython3",
   "version": "3.6.11"
  }
 },
 "nbformat": 4,
 "nbformat_minor": 1
}
